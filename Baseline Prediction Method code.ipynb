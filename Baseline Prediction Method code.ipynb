{
 "cells": [
  {
   "cell_type": "code",
   "execution_count": 2,
   "metadata": {},
   "outputs": [],
   "source": [
    "\n",
    "from datetime import datetime\n",
    "\n",
    "import pandas as pd\n",
    "import numpy as np\n",
    "import matplotlib\n",
    "\n",
    "import matplotlib.pyplot as plt\n",
    "\n",
    "import seaborn as sns\n",
    "sns.set_style('whitegrid')\n",
    "import os\n",
    "from scipy import sparse\n",
    "from scipy.sparse import csr_matrix\n",
    "\n",
    "from sklearn.decomposition import TruncatedSVD\n",
    "from sklearn.metrics.pairwise import cosine_similarity\n",
    "import random"
   ]
  },
  {
   "cell_type": "markdown",
   "metadata": {},
   "source": [
    "__Reading The Sampled data__"
   ]
  },
  {
   "cell_type": "code",
   "execution_count": 3,
   "metadata": {
    "scrolled": true
   },
   "outputs": [],
   "source": [
    "reg_train = pd.read_csv('sampled_train_assignment3.csv', names = ['user', 'movie', 'GAvg', 'sur1', 'sur2', 'sur3', 'sur4', 'sur5','smr1', 'smr2', 'smr3', 'smr4', 'smr5', 'UAvg', 'MAvg', 'rating','avg1','avg2'], header=None)\n",
    "\n"
   ]
  },
  {
   "cell_type": "code",
   "execution_count": 82,
   "metadata": {},
   "outputs": [
    {
     "data": {
      "text/plain": [
       "Text(0, 0.5, 'rating')"
      ]
     },
     "execution_count": 82,
     "metadata": {},
     "output_type": "execute_result"
    },
    {
     "data": {
      "image/png": "[encoded data removed]",
      "text/plain": [
       "<Figure size 432x288 with 1 Axes>"
      ]
     },
     "metadata": {},
     "output_type": "display_data"
    }
   ],
   "source": [
    "data = np.genfromtxt('sampled_train_assignment4.csv',delimiter=\",\",names = ['user', 'movie', 'GAvg', 'sur1', 'sur2', 'sur3', 'sur4', 'sur5','smr1', 'smr2', 'smr3', 'smr4', 'smr5', 'UAvg', 'MAvg', 'rating','Avg'])\n",
    "plt.plot(data['Avg'], data['rating'],'o')\n",
    "plt.xlabel('average deviation and movie average', fontsize=15)\n",
    "plt.ylabel('rating', fontsize=15)"
   ]
  },
  {
   "cell_type": "code",
   "execution_count": 11,
   "metadata": {},
   "outputs": [
    {
     "data": {
      "text/html": [
       "<div>\n",
       "<style scoped>\n",
       "    .dataframe tbody tr th:only-of-type {\n",
       "        vertical-align: middle;\n",
       "    }\n",
       "\n",
       "    .dataframe tbody tr th {\n",
       "        vertical-align: top;\n",
       "    }\n",
       "\n",
       "    .dataframe thead th {\n",
       "        text-align: right;\n",
       "    }\n",
       "</style>\n",
       "<table border=\"1\" class=\"dataframe\">\n",
       "  <thead>\n",
       "    <tr style=\"text-align: right;\">\n",
       "      <th></th>\n",
       "      <th>user</th>\n",
       "      <th>movie</th>\n",
       "      <th>UAvg</th>\n",
       "      <th>MAvg</th>\n",
       "      <th>rating</th>\n",
       "    </tr>\n",
       "  </thead>\n",
       "  <tbody>\n",
       "    <tr>\n",
       "      <th>0</th>\n",
       "      <td>39297</td>\n",
       "      <td>33</td>\n",
       "      <td>3.269565</td>\n",
       "      <td>4.143646</td>\n",
       "      <td>5</td>\n",
       "    </tr>\n",
       "    <tr>\n",
       "      <th>1</th>\n",
       "      <td>53406</td>\n",
       "      <td>33</td>\n",
       "      <td>3.370370</td>\n",
       "      <td>4.143646</td>\n",
       "      <td>4</td>\n",
       "    </tr>\n",
       "    <tr>\n",
       "      <th>2</th>\n",
       "      <td>67390</td>\n",
       "      <td>33</td>\n",
       "      <td>3.833333</td>\n",
       "      <td>4.143646</td>\n",
       "      <td>4</td>\n",
       "    </tr>\n",
       "    <tr>\n",
       "      <th>3</th>\n",
       "      <td>99540</td>\n",
       "      <td>33</td>\n",
       "      <td>3.555556</td>\n",
       "      <td>4.143646</td>\n",
       "      <td>3</td>\n",
       "    </tr>\n",
       "    <tr>\n",
       "      <th>4</th>\n",
       "      <td>99865</td>\n",
       "      <td>33</td>\n",
       "      <td>3.714286</td>\n",
       "      <td>4.143646</td>\n",
       "      <td>5</td>\n",
       "    </tr>\n",
       "  </tbody>\n",
       "</table>\n",
       "</div>"
      ],
      "text/plain": [
       "    user  movie      UAvg      MAvg  rating\n",
       "0  39297     33  3.269565  4.143646       5\n",
       "1  53406     33  3.370370  4.143646       4\n",
       "2  67390     33  3.833333  4.143646       4\n",
       "3  99540     33  3.555556  4.143646       3\n",
       "4  99865     33  3.714286  4.143646       5"
      ]
     },
     "execution_count": 11,
     "metadata": {},
     "output_type": "execute_result"
    }
   ],
   "source": [
    "ratings = pd.read_csv('newFile4.csv',names= ['user', 'movie','UAvg', 'MAvg', 'rating'],header=None)\n",
    "\n",
    "\n",
    "ratings.head()"
   ]
  },
  {
   "cell_type": "code",
   "execution_count": 24,
   "metadata": {},
   "outputs": [
    {
     "data": {
      "text/html": [
       "<div>\n",
       "<style scoped>\n",
       "    .dataframe tbody tr th:only-of-type {\n",
       "        vertical-align: middle;\n",
       "    }\n",
       "\n",
       "    .dataframe tbody tr th {\n",
       "        vertical-align: top;\n",
       "    }\n",
       "\n",
       "    .dataframe thead th {\n",
       "        text-align: right;\n",
       "    }\n",
       "</style>\n",
       "<table border=\"1\" class=\"dataframe\">\n",
       "  <thead>\n",
       "    <tr style=\"text-align: right;\">\n",
       "      <th></th>\n",
       "      <th>user</th>\n",
       "      <th>movie</th>\n",
       "      <th>UAvg</th>\n",
       "      <th>MAvg</th>\n",
       "      <th>rating</th>\n",
       "    </tr>\n",
       "  </thead>\n",
       "  <tbody>\n",
       "    <tr>\n",
       "      <th>9578</th>\n",
       "      <td>642543</td>\n",
       "      <td>1087</td>\n",
       "      <td>4.791667</td>\n",
       "      <td>2.924242</td>\n",
       "      <td>5</td>\n",
       "    </tr>\n",
       "    <tr>\n",
       "      <th>8671</th>\n",
       "      <td>642543</td>\n",
       "      <td>937</td>\n",
       "      <td>4.791667</td>\n",
       "      <td>3.746224</td>\n",
       "      <td>4</td>\n",
       "    </tr>\n",
       "    <tr>\n",
       "      <th>7959</th>\n",
       "      <td>642543</td>\n",
       "      <td>831</td>\n",
       "      <td>4.791667</td>\n",
       "      <td>3.052441</td>\n",
       "      <td>5</td>\n",
       "    </tr>\n",
       "    <tr>\n",
       "      <th>7452</th>\n",
       "      <td>642543</td>\n",
       "      <td>723</td>\n",
       "      <td>4.791667</td>\n",
       "      <td>2.950617</td>\n",
       "      <td>5</td>\n",
       "    </tr>\n",
       "    <tr>\n",
       "      <th>4883</th>\n",
       "      <td>642543</td>\n",
       "      <td>607</td>\n",
       "      <td>4.791667</td>\n",
       "      <td>3.545882</td>\n",
       "      <td>5</td>\n",
       "    </tr>\n",
       "    <tr>\n",
       "      <th>1509</th>\n",
       "      <td>642543</td>\n",
       "      <td>483</td>\n",
       "      <td>4.791667</td>\n",
       "      <td>3.446231</td>\n",
       "      <td>5</td>\n",
       "    </tr>\n",
       "  </tbody>\n",
       "</table>\n",
       "</div>"
      ],
      "text/plain": [
       "        user  movie      UAvg      MAvg  rating\n",
       "9578  642543   1087  4.791667  2.924242       5\n",
       "8671  642543    937  4.791667  3.746224       4\n",
       "7959  642543    831  4.791667  3.052441       5\n",
       "7452  642543    723  4.791667  2.950617       5\n",
       "4883  642543    607  4.791667  3.545882       5\n",
       "1509  642543    483  4.791667  3.446231       5"
      ]
     },
     "execution_count": 24,
     "metadata": {},
     "output_type": "execute_result"
    }
   ],
   "source": [
    "ratings[ratings['user'] == 642543]\n",
    "\n"
   ]
  },
  {
   "cell_type": "code",
   "execution_count": 23,
   "metadata": {},
   "outputs": [
    {
     "data": {
      "text/html": [
       "<div>\n",
       "<style scoped>\n",
       "    .dataframe tbody tr th:only-of-type {\n",
       "        vertical-align: middle;\n",
       "    }\n",
       "\n",
       "    .dataframe tbody tr th {\n",
       "        vertical-align: top;\n",
       "    }\n",
       "\n",
       "    .dataframe thead th {\n",
       "        text-align: right;\n",
       "    }\n",
       "</style>\n",
       "<table border=\"1\" class=\"dataframe\">\n",
       "  <thead>\n",
       "    <tr style=\"text-align: right;\">\n",
       "      <th></th>\n",
       "      <th>user</th>\n",
       "      <th>movie</th>\n",
       "      <th>UAvg</th>\n",
       "      <th>MAvg</th>\n",
       "      <th>rating</th>\n",
       "    </tr>\n",
       "  </thead>\n",
       "  <tbody>\n",
       "    <tr>\n",
       "      <th>9639</th>\n",
       "      <td>200061</td>\n",
       "      <td>1098</td>\n",
       "      <td>5.000000</td>\n",
       "      <td>4.070513</td>\n",
       "      <td>5</td>\n",
       "    </tr>\n",
       "    <tr>\n",
       "      <th>9647</th>\n",
       "      <td>364225</td>\n",
       "      <td>1098</td>\n",
       "      <td>5.000000</td>\n",
       "      <td>4.070513</td>\n",
       "      <td>5</td>\n",
       "    </tr>\n",
       "    <tr>\n",
       "      <th>9603</th>\n",
       "      <td>1735834</td>\n",
       "      <td>1087</td>\n",
       "      <td>5.000000</td>\n",
       "      <td>2.924242</td>\n",
       "      <td>5</td>\n",
       "    </tr>\n",
       "    <tr>\n",
       "      <th>8712</th>\n",
       "      <td>803506</td>\n",
       "      <td>937</td>\n",
       "      <td>5.000000</td>\n",
       "      <td>3.746224</td>\n",
       "      <td>5</td>\n",
       "    </tr>\n",
       "    <tr>\n",
       "      <th>8927</th>\n",
       "      <td>1659889</td>\n",
       "      <td>937</td>\n",
       "      <td>5.000000</td>\n",
       "      <td>3.746224</td>\n",
       "      <td>5</td>\n",
       "    </tr>\n",
       "    <tr>\n",
       "      <th>8942</th>\n",
       "      <td>1747202</td>\n",
       "      <td>937</td>\n",
       "      <td>5.000000</td>\n",
       "      <td>3.746224</td>\n",
       "      <td>5</td>\n",
       "    </tr>\n",
       "    <tr>\n",
       "      <th>8988</th>\n",
       "      <td>1935511</td>\n",
       "      <td>937</td>\n",
       "      <td>5.000000</td>\n",
       "      <td>3.746224</td>\n",
       "      <td>5</td>\n",
       "    </tr>\n",
       "    <tr>\n",
       "      <th>8997</th>\n",
       "      <td>1953621</td>\n",
       "      <td>937</td>\n",
       "      <td>5.000000</td>\n",
       "      <td>3.746224</td>\n",
       "      <td>5</td>\n",
       "    </tr>\n",
       "    <tr>\n",
       "      <th>9054</th>\n",
       "      <td>2228591</td>\n",
       "      <td>937</td>\n",
       "      <td>5.000000</td>\n",
       "      <td>3.746224</td>\n",
       "      <td>5</td>\n",
       "    </tr>\n",
       "    <tr>\n",
       "      <th>7974</th>\n",
       "      <td>705595</td>\n",
       "      <td>831</td>\n",
       "      <td>5.000000</td>\n",
       "      <td>3.052441</td>\n",
       "      <td>5</td>\n",
       "    </tr>\n",
       "    <tr>\n",
       "      <th>7464</th>\n",
       "      <td>705595</td>\n",
       "      <td>723</td>\n",
       "      <td>5.000000</td>\n",
       "      <td>2.950617</td>\n",
       "      <td>5</td>\n",
       "    </tr>\n",
       "    <tr>\n",
       "      <th>7301</th>\n",
       "      <td>1116838</td>\n",
       "      <td>609</td>\n",
       "      <td>5.000000</td>\n",
       "      <td>3.391304</td>\n",
       "      <td>5</td>\n",
       "    </tr>\n",
       "    <tr>\n",
       "      <th>4534</th>\n",
       "      <td>379927</td>\n",
       "      <td>607</td>\n",
       "      <td>5.000000</td>\n",
       "      <td>3.545882</td>\n",
       "      <td>5</td>\n",
       "    </tr>\n",
       "    <tr>\n",
       "      <th>5196</th>\n",
       "      <td>908394</td>\n",
       "      <td>607</td>\n",
       "      <td>5.000000</td>\n",
       "      <td>3.545882</td>\n",
       "      <td>5</td>\n",
       "    </tr>\n",
       "    <tr>\n",
       "      <th>5569</th>\n",
       "      <td>1214387</td>\n",
       "      <td>607</td>\n",
       "      <td>5.000000</td>\n",
       "      <td>3.545882</td>\n",
       "      <td>5</td>\n",
       "    </tr>\n",
       "    <tr>\n",
       "      <th>6336</th>\n",
       "      <td>1840690</td>\n",
       "      <td>607</td>\n",
       "      <td>5.000000</td>\n",
       "      <td>3.545882</td>\n",
       "      <td>5</td>\n",
       "    </tr>\n",
       "    <tr>\n",
       "      <th>3916</th>\n",
       "      <td>1840690</td>\n",
       "      <td>564</td>\n",
       "      <td>5.000000</td>\n",
       "      <td>3.142857</td>\n",
       "      <td>5</td>\n",
       "    </tr>\n",
       "    <tr>\n",
       "      <th>3925</th>\n",
       "      <td>1953621</td>\n",
       "      <td>564</td>\n",
       "      <td>5.000000</td>\n",
       "      <td>3.142857</td>\n",
       "      <td>5</td>\n",
       "    </tr>\n",
       "    <tr>\n",
       "      <th>913</th>\n",
       "      <td>77398</td>\n",
       "      <td>483</td>\n",
       "      <td>5.000000</td>\n",
       "      <td>3.446231</td>\n",
       "      <td>5</td>\n",
       "    </tr>\n",
       "    <tr>\n",
       "      <th>1217</th>\n",
       "      <td>379927</td>\n",
       "      <td>483</td>\n",
       "      <td>5.000000</td>\n",
       "      <td>3.446231</td>\n",
       "      <td>5</td>\n",
       "    </tr>\n",
       "    <tr>\n",
       "      <th>1342</th>\n",
       "      <td>487106</td>\n",
       "      <td>483</td>\n",
       "      <td>5.000000</td>\n",
       "      <td>3.446231</td>\n",
       "      <td>5</td>\n",
       "    </tr>\n",
       "    <tr>\n",
       "      <th>1375</th>\n",
       "      <td>514279</td>\n",
       "      <td>483</td>\n",
       "      <td>5.000000</td>\n",
       "      <td>3.446231</td>\n",
       "      <td>5</td>\n",
       "    </tr>\n",
       "    <tr>\n",
       "      <th>1474</th>\n",
       "      <td>603068</td>\n",
       "      <td>483</td>\n",
       "      <td>5.000000</td>\n",
       "      <td>3.446231</td>\n",
       "      <td>5</td>\n",
       "    </tr>\n",
       "    <tr>\n",
       "      <th>1495</th>\n",
       "      <td>632090</td>\n",
       "      <td>483</td>\n",
       "      <td>5.000000</td>\n",
       "      <td>3.446231</td>\n",
       "      <td>5</td>\n",
       "    </tr>\n",
       "    <tr>\n",
       "      <th>1548</th>\n",
       "      <td>680976</td>\n",
       "      <td>483</td>\n",
       "      <td>5.000000</td>\n",
       "      <td>3.446231</td>\n",
       "      <td>5</td>\n",
       "    </tr>\n",
       "    <tr>\n",
       "      <th>1765</th>\n",
       "      <td>878601</td>\n",
       "      <td>483</td>\n",
       "      <td>5.000000</td>\n",
       "      <td>3.446231</td>\n",
       "      <td>5</td>\n",
       "    </tr>\n",
       "    <tr>\n",
       "      <th>1811</th>\n",
       "      <td>925881</td>\n",
       "      <td>483</td>\n",
       "      <td>5.000000</td>\n",
       "      <td>3.446231</td>\n",
       "      <td>5</td>\n",
       "    </tr>\n",
       "    <tr>\n",
       "      <th>1862</th>\n",
       "      <td>972052</td>\n",
       "      <td>483</td>\n",
       "      <td>5.000000</td>\n",
       "      <td>3.446231</td>\n",
       "      <td>5</td>\n",
       "    </tr>\n",
       "    <tr>\n",
       "      <th>1885</th>\n",
       "      <td>997348</td>\n",
       "      <td>483</td>\n",
       "      <td>5.000000</td>\n",
       "      <td>3.446231</td>\n",
       "      <td>5</td>\n",
       "    </tr>\n",
       "    <tr>\n",
       "      <th>2229</th>\n",
       "      <td>1330896</td>\n",
       "      <td>483</td>\n",
       "      <td>5.000000</td>\n",
       "      <td>3.446231</td>\n",
       "      <td>5</td>\n",
       "    </tr>\n",
       "    <tr>\n",
       "      <th>...</th>\n",
       "      <td>...</td>\n",
       "      <td>...</td>\n",
       "      <td>...</td>\n",
       "      <td>...</td>\n",
       "      <td>...</td>\n",
       "    </tr>\n",
       "    <tr>\n",
       "      <th>7601</th>\n",
       "      <td>1402560</td>\n",
       "      <td>723</td>\n",
       "      <td>4.800000</td>\n",
       "      <td>2.950617</td>\n",
       "      <td>4</td>\n",
       "    </tr>\n",
       "    <tr>\n",
       "      <th>4606</th>\n",
       "      <td>427511</td>\n",
       "      <td>607</td>\n",
       "      <td>4.800000</td>\n",
       "      <td>3.545882</td>\n",
       "      <td>5</td>\n",
       "    </tr>\n",
       "    <tr>\n",
       "      <th>4853</th>\n",
       "      <td>611076</td>\n",
       "      <td>607</td>\n",
       "      <td>4.800000</td>\n",
       "      <td>3.545882</td>\n",
       "      <td>5</td>\n",
       "    </tr>\n",
       "    <tr>\n",
       "      <th>4912</th>\n",
       "      <td>670794</td>\n",
       "      <td>607</td>\n",
       "      <td>4.800000</td>\n",
       "      <td>3.545882</td>\n",
       "      <td>5</td>\n",
       "    </tr>\n",
       "    <tr>\n",
       "      <th>5464</th>\n",
       "      <td>1121869</td>\n",
       "      <td>607</td>\n",
       "      <td>4.800000</td>\n",
       "      <td>3.545882</td>\n",
       "      <td>3</td>\n",
       "    </tr>\n",
       "    <tr>\n",
       "      <th>6551</th>\n",
       "      <td>2030771</td>\n",
       "      <td>607</td>\n",
       "      <td>4.800000</td>\n",
       "      <td>3.545882</td>\n",
       "      <td>4</td>\n",
       "    </tr>\n",
       "    <tr>\n",
       "      <th>838</th>\n",
       "      <td>6013</td>\n",
       "      <td>483</td>\n",
       "      <td>4.800000</td>\n",
       "      <td>3.446231</td>\n",
       "      <td>5</td>\n",
       "    </tr>\n",
       "    <tr>\n",
       "      <th>1281</th>\n",
       "      <td>427511</td>\n",
       "      <td>483</td>\n",
       "      <td>4.800000</td>\n",
       "      <td>3.446231</td>\n",
       "      <td>5</td>\n",
       "    </tr>\n",
       "    <tr>\n",
       "      <th>7717</th>\n",
       "      <td>2069524</td>\n",
       "      <td>723</td>\n",
       "      <td>4.793103</td>\n",
       "      <td>2.950617</td>\n",
       "      <td>5</td>\n",
       "    </tr>\n",
       "    <tr>\n",
       "      <th>6603</th>\n",
       "      <td>2069524</td>\n",
       "      <td>607</td>\n",
       "      <td>4.793103</td>\n",
       "      <td>3.545882</td>\n",
       "      <td>5</td>\n",
       "    </tr>\n",
       "    <tr>\n",
       "      <th>3942</th>\n",
       "      <td>2069524</td>\n",
       "      <td>564</td>\n",
       "      <td>4.793103</td>\n",
       "      <td>3.142857</td>\n",
       "      <td>4</td>\n",
       "    </tr>\n",
       "    <tr>\n",
       "      <th>3023</th>\n",
       "      <td>2069524</td>\n",
       "      <td>483</td>\n",
       "      <td>4.793103</td>\n",
       "      <td>3.446231</td>\n",
       "      <td>4</td>\n",
       "    </tr>\n",
       "    <tr>\n",
       "      <th>623</th>\n",
       "      <td>2069524</td>\n",
       "      <td>185</td>\n",
       "      <td>4.793103</td>\n",
       "      <td>3.057143</td>\n",
       "      <td>5</td>\n",
       "    </tr>\n",
       "    <tr>\n",
       "      <th>9117</th>\n",
       "      <td>2462689</td>\n",
       "      <td>937</td>\n",
       "      <td>4.792453</td>\n",
       "      <td>3.746224</td>\n",
       "      <td>5</td>\n",
       "    </tr>\n",
       "    <tr>\n",
       "      <th>3423</th>\n",
       "      <td>2462689</td>\n",
       "      <td>483</td>\n",
       "      <td>4.792453</td>\n",
       "      <td>3.446231</td>\n",
       "      <td>3</td>\n",
       "    </tr>\n",
       "    <tr>\n",
       "      <th>9578</th>\n",
       "      <td>642543</td>\n",
       "      <td>1087</td>\n",
       "      <td>4.791667</td>\n",
       "      <td>2.924242</td>\n",
       "      <td>5</td>\n",
       "    </tr>\n",
       "    <tr>\n",
       "      <th>8671</th>\n",
       "      <td>642543</td>\n",
       "      <td>937</td>\n",
       "      <td>4.791667</td>\n",
       "      <td>3.746224</td>\n",
       "      <td>4</td>\n",
       "    </tr>\n",
       "    <tr>\n",
       "      <th>7959</th>\n",
       "      <td>642543</td>\n",
       "      <td>831</td>\n",
       "      <td>4.791667</td>\n",
       "      <td>3.052441</td>\n",
       "      <td>5</td>\n",
       "    </tr>\n",
       "    <tr>\n",
       "      <th>7397</th>\n",
       "      <td>388075</td>\n",
       "      <td>723</td>\n",
       "      <td>4.791667</td>\n",
       "      <td>2.950617</td>\n",
       "      <td>5</td>\n",
       "    </tr>\n",
       "    <tr>\n",
       "      <th>7452</th>\n",
       "      <td>642543</td>\n",
       "      <td>723</td>\n",
       "      <td>4.791667</td>\n",
       "      <td>2.950617</td>\n",
       "      <td>5</td>\n",
       "    </tr>\n",
       "    <tr>\n",
       "      <th>4547</th>\n",
       "      <td>388075</td>\n",
       "      <td>607</td>\n",
       "      <td>4.791667</td>\n",
       "      <td>3.545882</td>\n",
       "      <td>5</td>\n",
       "    </tr>\n",
       "    <tr>\n",
       "      <th>4883</th>\n",
       "      <td>642543</td>\n",
       "      <td>607</td>\n",
       "      <td>4.791667</td>\n",
       "      <td>3.545882</td>\n",
       "      <td>5</td>\n",
       "    </tr>\n",
       "    <tr>\n",
       "      <th>1229</th>\n",
       "      <td>388075</td>\n",
       "      <td>483</td>\n",
       "      <td>4.791667</td>\n",
       "      <td>3.446231</td>\n",
       "      <td>5</td>\n",
       "    </tr>\n",
       "    <tr>\n",
       "      <th>1509</th>\n",
       "      <td>642543</td>\n",
       "      <td>483</td>\n",
       "      <td>4.791667</td>\n",
       "      <td>3.446231</td>\n",
       "      <td>5</td>\n",
       "    </tr>\n",
       "    <tr>\n",
       "      <th>102</th>\n",
       "      <td>1493352</td>\n",
       "      <td>33</td>\n",
       "      <td>4.789474</td>\n",
       "      <td>4.143646</td>\n",
       "      <td>4</td>\n",
       "    </tr>\n",
       "    <tr>\n",
       "      <th>7273</th>\n",
       "      <td>2636216</td>\n",
       "      <td>607</td>\n",
       "      <td>4.782609</td>\n",
       "      <td>3.545882</td>\n",
       "      <td>5</td>\n",
       "    </tr>\n",
       "    <tr>\n",
       "      <th>405</th>\n",
       "      <td>2636216</td>\n",
       "      <td>162</td>\n",
       "      <td>4.782609</td>\n",
       "      <td>3.375000</td>\n",
       "      <td>4</td>\n",
       "    </tr>\n",
       "    <tr>\n",
       "      <th>8181</th>\n",
       "      <td>1729518</td>\n",
       "      <td>831</td>\n",
       "      <td>4.779221</td>\n",
       "      <td>3.052441</td>\n",
       "      <td>5</td>\n",
       "    </tr>\n",
       "    <tr>\n",
       "      <th>6211</th>\n",
       "      <td>1729518</td>\n",
       "      <td>607</td>\n",
       "      <td>4.779221</td>\n",
       "      <td>3.545882</td>\n",
       "      <td>5</td>\n",
       "    </tr>\n",
       "    <tr>\n",
       "      <th>3900</th>\n",
       "      <td>1729518</td>\n",
       "      <td>564</td>\n",
       "      <td>4.779221</td>\n",
       "      <td>3.142857</td>\n",
       "      <td>5</td>\n",
       "    </tr>\n",
       "  </tbody>\n",
       "</table>\n",
       "<p>100 rows × 5 columns</p>\n",
       "</div>"
      ],
      "text/plain": [
       "         user  movie      UAvg      MAvg  rating\n",
       "9639   200061   1098  5.000000  4.070513       5\n",
       "9647   364225   1098  5.000000  4.070513       5\n",
       "9603  1735834   1087  5.000000  2.924242       5\n",
       "8712   803506    937  5.000000  3.746224       5\n",
       "8927  1659889    937  5.000000  3.746224       5\n",
       "8942  1747202    937  5.000000  3.746224       5\n",
       "8988  1935511    937  5.000000  3.746224       5\n",
       "8997  1953621    937  5.000000  3.746224       5\n",
       "9054  2228591    937  5.000000  3.746224       5\n",
       "7974   705595    831  5.000000  3.052441       5\n",
       "7464   705595    723  5.000000  2.950617       5\n",
       "7301  1116838    609  5.000000  3.391304       5\n",
       "4534   379927    607  5.000000  3.545882       5\n",
       "5196   908394    607  5.000000  3.545882       5\n",
       "5569  1214387    607  5.000000  3.545882       5\n",
       "6336  1840690    607  5.000000  3.545882       5\n",
       "3916  1840690    564  5.000000  3.142857       5\n",
       "3925  1953621    564  5.000000  3.142857       5\n",
       "913     77398    483  5.000000  3.446231       5\n",
       "1217   379927    483  5.000000  3.446231       5\n",
       "1342   487106    483  5.000000  3.446231       5\n",
       "1375   514279    483  5.000000  3.446231       5\n",
       "1474   603068    483  5.000000  3.446231       5\n",
       "1495   632090    483  5.000000  3.446231       5\n",
       "1548   680976    483  5.000000  3.446231       5\n",
       "1765   878601    483  5.000000  3.446231       5\n",
       "1811   925881    483  5.000000  3.446231       5\n",
       "1862   972052    483  5.000000  3.446231       5\n",
       "1885   997348    483  5.000000  3.446231       5\n",
       "2229  1330896    483  5.000000  3.446231       5\n",
       "...       ...    ...       ...       ...     ...\n",
       "7601  1402560    723  4.800000  2.950617       4\n",
       "4606   427511    607  4.800000  3.545882       5\n",
       "4853   611076    607  4.800000  3.545882       5\n",
       "4912   670794    607  4.800000  3.545882       5\n",
       "5464  1121869    607  4.800000  3.545882       3\n",
       "6551  2030771    607  4.800000  3.545882       4\n",
       "838      6013    483  4.800000  3.446231       5\n",
       "1281   427511    483  4.800000  3.446231       5\n",
       "7717  2069524    723  4.793103  2.950617       5\n",
       "6603  2069524    607  4.793103  3.545882       5\n",
       "3942  2069524    564  4.793103  3.142857       4\n",
       "3023  2069524    483  4.793103  3.446231       4\n",
       "623   2069524    185  4.793103  3.057143       5\n",
       "9117  2462689    937  4.792453  3.746224       5\n",
       "3423  2462689    483  4.792453  3.446231       3\n",
       "9578   642543   1087  4.791667  2.924242       5\n",
       "8671   642543    937  4.791667  3.746224       4\n",
       "7959   642543    831  4.791667  3.052441       5\n",
       "7397   388075    723  4.791667  2.950617       5\n",
       "7452   642543    723  4.791667  2.950617       5\n",
       "4547   388075    607  4.791667  3.545882       5\n",
       "4883   642543    607  4.791667  3.545882       5\n",
       "1229   388075    483  4.791667  3.446231       5\n",
       "1509   642543    483  4.791667  3.446231       5\n",
       "102   1493352     33  4.789474  4.143646       4\n",
       "7273  2636216    607  4.782609  3.545882       5\n",
       "405   2636216    162  4.782609  3.375000       4\n",
       "8181  1729518    831  4.779221  3.052441       5\n",
       "6211  1729518    607  4.779221  3.545882       5\n",
       "3900  1729518    564  4.779221  3.142857       5\n",
       "\n",
       "[100 rows x 5 columns]"
      ]
     },
     "execution_count": 23,
     "metadata": {},
     "output_type": "execute_result"
    }
   ],
   "source": [
    "ratings.sort_values([\"UAvg\",\"movie\"], axis=0, \n",
    "                 ascending=False, inplace=True) \n",
    "ratings.head(100)"
   ]
  },
  {
   "cell_type": "code",
   "execution_count": 22,
   "metadata": {},
   "outputs": [
    {
     "data": {
      "text/plain": [
       "user\n",
       "1300759    20\n",
       "1227322    14\n",
       "414536     13\n",
       "629389     11\n",
       "2626336    10\n",
       "1770828    10\n",
       "1130133    10\n",
       "2120912     9\n",
       "1484157     9\n",
       "1432474     9\n",
       "Name: rating, dtype: int64"
      ]
     },
     "execution_count": 22,
     "metadata": {},
     "output_type": "execute_result"
    }
   ],
   "source": [
    "no_of_rated_movies_per_user = ratings.groupby(by='user')['rating'].count().sort_values(ascending=False)\n",
    "\n",
    "no_of_rated_movies_per_user.head(10)"
   ]
  },
  {
   "cell_type": "code",
   "execution_count": 57,
   "metadata": {},
   "outputs": [],
   "source": [
    "ratings.sort_values([\"user\",\"movie\"], axis=0, \n",
    "                 ascending=True, inplace=True) "
   ]
  },
  {
   "cell_type": "code",
   "execution_count": 23,
   "metadata": {},
   "outputs": [
    {
     "data": {
      "text/plain": [
       "Text(0, 0.5, 'ratings')"
      ]
     },
     "execution_count": 23,
     "metadata": {},
     "output_type": "execute_result"
    },
    {
     "data": {
      "image/png": "[encoded data removed]",
      "text/plain": [
       "<Figure size 1296x720 with 1 Axes>"
      ]
     },
     "metadata": {
      "needs_background": "light"
     },
     "output_type": "display_data"
    }
   ],
   "source": [
    "import matplotlib.pyplot as plt\n",
    "fig, ax = plt.subplots(figsize=(18, 10))\n",
    "ratings.pivot_table(index = 'movie', columns ='user', values = 'rating').plot(ax=ax,kind = 'box')\n",
    "plt.ylabel('ratings')"
   ]
  },
  {
   "cell_type": "code",
   "execution_count": 35,
   "metadata": {},
   "outputs": [],
   "source": [
    "def get_average_ratings(sparse_matrix, of_users):\n",
    "    \n",
    "    \n",
    "    ax = 1 if of_users else 0 \n",
    "\n",
    "    \n",
    "    sum_of_ratings = sparse_matrix.sum(axis=ax).A1\n",
    "    \n",
    "    is_rated = sparse_matrix!=0\n",
    "    \n",
    "    no_of_ratings = is_rated.sum(axis=ax).A1\n",
    "    \n",
    "     \n",
    "    u,m = sparse_matrix.shape\n",
    "   \n",
    "    average_ratings = { i : sum_of_ratings[i]/no_of_ratings[i]\n",
    "                                 for i in range(u if of_users else m) \n",
    "                                    if no_of_ratings[i] !=0}\n",
    "\n",
    "   \n",
    "    return average_ratings"
   ]
  },
  {
   "cell_type": "code",
   "execution_count": 36,
   "metadata": {},
   "outputs": [
    {
     "data": {
      "text/plain": [
       "-0.017321821811792305"
      ]
     },
     "execution_count": 36,
     "metadata": {},
     "output_type": "execute_result"
    }
   ],
   "source": [
    "sample_train_averages = dict()\n",
    "global_average = final2.sum()/final2.count_nonzero()\n",
    "sample_train_averages['global'] = global_average\n",
    "global_average\n"
   ]
  },
  {
   "cell_type": "code",
   "execution_count": 38,
   "metadata": {},
   "outputs": [
    {
     "name": "stdout",
     "output_type": "stream",
     "text": [
      "\n",
      " AVerage rating of movie 15153 : -0.42426603374438887\n"
     ]
    }
   ],
   "source": [
    "sample_train_averages['movie'] =  get_average_ratings(final2, of_users=False)\n",
    "print('\\n AVerage rating of movie 15153 :',sample_train_averages['movie'][71])"
   ]
  },
  {
   "cell_type": "code",
   "execution_count": 40,
   "metadata": {},
   "outputs": [
    {
     "name": "stdout",
     "output_type": "stream",
     "text": [
      "\n",
      "Average rating of user 1515220 : -1.4242660337443889\n"
     ]
    }
   ],
   "source": [
    "sample_train_averages['user'] = get_average_ratings(final2, of_users=True)\n",
    "print('\\nAverage rating of user 1515220 :',sample_train_averages['user'][808635])"
   ]
  },
  {
   "cell_type": "code",
   "execution_count": 41,
   "metadata": {},
   "outputs": [],
   "source": [
    "sample_train_users, sample_train_movies, sample_train_ratings = sparse.find(final2)"
   ]
  },
  {
   "cell_type": "code",
   "execution_count": 105,
   "metadata": {},
   "outputs": [],
   "source": [
    "\n",
    "reader = Reader(rating_scale=(1,5))\n",
    "\n",
    "train_data = Dataset.load_from_df(reg_test_df[['user', 'movie', 'rating']], reader = reader)\n",
    "\n",
    "trainset = train_data.build_full_trainset() "
   ]
  },
  {
   "cell_type": "code",
   "execution_count": 108,
   "metadata": {},
   "outputs": [
    {
     "data": {
      "text/plain": [
       "[(808635, 71, 5), (941866, 71, 4), (1737912, 71, 3)]"
      ]
     },
     "execution_count": 108,
     "metadata": {},
     "output_type": "execute_result"
    }
   ],
   "source": [
    "testset = list(zip(reg_test_df1.user.values, reg_test_df1.movie.values, reg_test_df1.rating.values))\n",
    "testset[:3]"
   ]
  },
  {
   "cell_type": "code",
   "execution_count": 109,
   "metadata": {},
   "outputs": [
    {
     "data": {
      "text/plain": [
       "({}, {})"
      ]
     },
     "execution_count": 109,
     "metadata": {},
     "output_type": "execute_result"
    }
   ],
   "source": [
    "models_evaluation_train = dict()\n",
    "models_evaluation_test = dict()\n",
    "\n",
    "models_evaluation_train, models_evaluation_test"
   ]
  },
  {
   "cell_type": "code",
   "execution_count": 123,
   "metadata": {},
   "outputs": [],
   "source": [
    "from datetime import datetime\n",
    "from  tqdm import tqdm\n",
    "from surprise import Reader, Dataset\n",
    "from surprise import BaselineOnly \n",
    "from surprise import accuracy\n",
    "from surprise import KNNBaseline\n",
    "from surprise import SVD,SVDpp\n",
    "from surprise.model_selection import GridSearchCV"
   ]
  },
  {
   "cell_type": "code",
   "execution_count": 124,
   "metadata": {},
   "outputs": [
    {
     "name": "stdout",
     "output_type": "stream",
     "text": [
      "Estimating biases using sgd with learning rate 0.001...\n"
     ]
    },
    {
     "name": "stderr",
     "output_type": "stream",
     "text": [
      "\r",
      "  0%|                                                                                           | 0/19 [00:00<?, ?it/s]"
     ]
    },
    {
     "name": "stdout",
     "output_type": "stream",
     "text": [
      "---------------------------------------------------------------------------\n",
      "Accuracy for n_epochs : 10\n",
      "RMSE: 0.9943\n",
      "RMSE on Train data: 0.9943263152963208\n",
      "RMSE: 1.0848\n",
      "RMSE on Test data: 1.0847970358391112\n"
     ]
    },
    {
     "name": "stderr",
     "output_type": "stream",
     "text": [
      "\r",
      "  5%|████▎                                                                              | 1/19 [00:00<00:03,  4.62it/s]"
     ]
    },
    {
     "name": "stdout",
     "output_type": "stream",
     "text": [
      "---------------------------------------------------------------------------\n",
      "Accuracy for n_epochs : 20\n",
      "RMSE: 0.9780\n",
      "RMSE on Train data: 0.9780378128820054\n",
      "RMSE: 1.0848\n",
      "RMSE on Test data: 1.0847672410416824\n"
     ]
    },
    {
     "name": "stderr",
     "output_type": "stream",
     "text": [
      "\r",
      " 11%|████████▋                                                                          | 2/19 [00:00<00:03,  4.71it/s]"
     ]
    },
    {
     "name": "stdout",
     "output_type": "stream",
     "text": [
      "---------------------------------------------------------------------------\n",
      "Accuracy for n_epochs : 30\n",
      "RMSE: 0.9642\n",
      "RMSE on Train data: 0.9642199898970776\n",
      "RMSE: 1.0847\n",
      "RMSE on Test data: 1.084741779310105\n"
     ]
    },
    {
     "name": "stderr",
     "output_type": "stream",
     "text": [
      "\r",
      " 16%|█████████████                                                                      | 3/19 [00:00<00:03,  4.45it/s]"
     ]
    },
    {
     "name": "stdout",
     "output_type": "stream",
     "text": [
      "---------------------------------------------------------------------------\n",
      "Accuracy for n_epochs : 40\n",
      "RMSE: 0.9515\n",
      "RMSE on Train data: 0.9515483187324613\n",
      "RMSE: 1.0847\n",
      "RMSE on Test data: 1.084720246272658\n"
     ]
    },
    {
     "name": "stderr",
     "output_type": "stream",
     "text": [
      "\r",
      " 21%|█████████████████▍                                                                 | 4/19 [00:00<00:03,  4.48it/s]"
     ]
    },
    {
     "name": "stdout",
     "output_type": "stream",
     "text": [
      "---------------------------------------------------------------------------\n",
      "Accuracy for n_epochs : 50\n",
      "RMSE: 0.9397\n",
      "RMSE on Train data: 0.939658413724779\n",
      "RMSE: 1.0847\n",
      "RMSE on Test data: 1.0847022098878212\n"
     ]
    },
    {
     "name": "stderr",
     "output_type": "stream",
     "text": [
      "\r",
      " 26%|█████████████████████▊                                                             | 5/19 [00:01<00:03,  4.49it/s]"
     ]
    },
    {
     "name": "stdout",
     "output_type": "stream",
     "text": [
      "---------------------------------------------------------------------------\n",
      "Accuracy for n_epochs : 60\n",
      "RMSE: 0.9284\n",
      "RMSE on Train data: 0.9284035687980233\n",
      "RMSE: 1.0847\n",
      "RMSE on Test data: 1.0846873009514946\n"
     ]
    },
    {
     "name": "stderr",
     "output_type": "stream",
     "text": [
      "\r",
      " 32%|██████████████████████████▏                                                        | 6/19 [00:01<00:03,  4.11it/s]"
     ]
    },
    {
     "name": "stdout",
     "output_type": "stream",
     "text": [
      "---------------------------------------------------------------------------\n",
      "Accuracy for n_epochs : 70\n",
      "RMSE: 0.9177\n",
      "RMSE on Train data: 0.9177033013732075\n",
      "RMSE: 1.0847\n",
      "RMSE on Test data: 1.0846752078101694\n"
     ]
    },
    {
     "name": "stderr",
     "output_type": "stream",
     "text": [
      "\r",
      " 37%|██████████████████████████████▌                                                    | 7/19 [00:01<00:03,  3.99it/s]"
     ]
    },
    {
     "name": "stdout",
     "output_type": "stream",
     "text": [
      "---------------------------------------------------------------------------\n",
      "Accuracy for n_epochs : 80\n",
      "RMSE: 0.9075\n",
      "RMSE on Train data: 0.9075024774781644\n",
      "RMSE: 1.0847\n",
      "RMSE on Test data: 1.0846656611250212\n"
     ]
    },
    {
     "name": "stderr",
     "output_type": "stream",
     "text": [
      "\r",
      " 42%|██████████████████████████████████▉                                                | 8/19 [00:01<00:02,  3.80it/s]"
     ]
    },
    {
     "name": "stdout",
     "output_type": "stream",
     "text": [
      "---------------------------------------------------------------------------\n",
      "Accuracy for n_epochs : 90\n",
      "RMSE: 0.8978\n",
      "RMSE on Train data: 0.8977583226812929\n",
      "RMSE: 1.0847\n",
      "RMSE on Test data: 1.084658423088817\n"
     ]
    },
    {
     "name": "stderr",
     "output_type": "stream",
     "text": [
      "\r",
      " 47%|███████████████████████████████████████▎                                           | 9/19 [00:02<00:02,  3.34it/s]"
     ]
    },
    {
     "name": "stdout",
     "output_type": "stream",
     "text": [
      "---------------------------------------------------------------------------\n",
      "Accuracy for n_epochs : 100\n",
      "RMSE: 0.8884\n",
      "RMSE on Train data: 0.8884354840084819\n",
      "RMSE: 1.0847\n",
      "RMSE on Test data: 1.08465328066939\n"
     ]
    },
    {
     "name": "stderr",
     "output_type": "stream",
     "text": [
      "\r",
      " 53%|███████████████████████████████████████████▏                                      | 10/19 [00:02<00:02,  3.27it/s]"
     ]
    },
    {
     "name": "stdout",
     "output_type": "stream",
     "text": [
      "---------------------------------------------------------------------------\n",
      "Accuracy for n_epochs : 110\n",
      "RMSE: 0.8795\n",
      "RMSE on Train data: 0.8795037365882743\n",
      "RMSE: 1.0847\n",
      "RMSE on Test data: 1.0846500412904232\n"
     ]
    },
    {
     "name": "stderr",
     "output_type": "stream",
     "text": [
      "\r",
      " 58%|███████████████████████████████████████████████▍                                  | 11/19 [00:03<00:02,  2.98it/s]"
     ]
    },
    {
     "name": "stdout",
     "output_type": "stream",
     "text": [
      "---------------------------------------------------------------------------\n",
      "Accuracy for n_epochs : 120\n",
      "RMSE: 0.8709\n",
      "RMSE on Train data: 0.8709367056989943\n",
      "RMSE: 1.0846\n",
      "RMSE on Test data: 1.0846485299014863\n"
     ]
    },
    {
     "name": "stderr",
     "output_type": "stream",
     "text": [
      "\r",
      " 63%|███████████████████████████████████████████████████▊                              | 12/19 [00:03<00:02,  2.91it/s]"
     ]
    },
    {
     "name": "stdout",
     "output_type": "stream",
     "text": [
      "---------------------------------------------------------------------------\n",
      "Accuracy for n_epochs : 130\n",
      "RMSE: 0.8627\n",
      "RMSE on Train data: 0.862711052453092\n",
      "RMSE: 1.0846\n",
      "RMSE on Test data: 1.0846485868503983\n"
     ]
    },
    {
     "name": "stderr",
     "output_type": "stream",
     "text": [
      "\r",
      " 68%|████████████████████████████████████████████████████████                          | 13/19 [00:03<00:02,  2.97it/s]"
     ]
    },
    {
     "name": "stdout",
     "output_type": "stream",
     "text": [
      "---------------------------------------------------------------------------\n",
      "Accuracy for n_epochs : 140\n",
      "RMSE: 0.8548\n",
      "RMSE on Train data: 0.8548059078063597\n",
      "RMSE: 1.0847\n",
      "RMSE on Test data: 1.0846500662376826\n"
     ]
    },
    {
     "name": "stderr",
     "output_type": "stream",
     "text": [
      "\r",
      " 74%|████████████████████████████████████████████████████████████▍                     | 14/19 [00:04<00:01,  2.83it/s]"
     ]
    },
    {
     "name": "stdout",
     "output_type": "stream",
     "text": [
      "---------------------------------------------------------------------------\n",
      "Accuracy for n_epochs : 150\n",
      "RMSE: 0.8472\n",
      "RMSE on Train data: 0.8472024569025565\n",
      "RMSE: 1.0847\n",
      "RMSE on Test data: 1.0846528345763546\n"
     ]
    },
    {
     "name": "stderr",
     "output_type": "stream",
     "text": [
      "\r",
      " 79%|████████████████████████████████████████████████████████████████▋                 | 15/19 [00:04<00:01,  2.84it/s]"
     ]
    },
    {
     "name": "stdout",
     "output_type": "stream",
     "text": [
      "---------------------------------------------------------------------------\n",
      "Accuracy for n_epochs : 160\n",
      "RMSE: 0.8399\n",
      "RMSE on Train data: 0.8398836224078429\n",
      "RMSE: 1.0847\n",
      "RMSE on Test data: 1.0846567696568628\n"
     ]
    },
    {
     "name": "stderr",
     "output_type": "stream",
     "text": [
      "\r",
      " 84%|█████████████████████████████████████████████████████████████████████             | 16/19 [00:04<00:01,  2.84it/s]"
     ]
    },
    {
     "name": "stdout",
     "output_type": "stream",
     "text": [
      "---------------------------------------------------------------------------\n",
      "Accuracy for n_epochs : 170\n",
      "RMSE: 0.8328\n",
      "RMSE on Train data: 0.832833816776177\n",
      "RMSE: 1.0847\n",
      "RMSE on Test data: 1.0846617595584844\n"
     ]
    },
    {
     "name": "stderr",
     "output_type": "stream",
     "text": [
      "\r",
      " 89%|█████████████████████████████████████████████████████████████████████████▎        | 17/19 [00:05<00:00,  2.70it/s]"
     ]
    },
    {
     "name": "stdout",
     "output_type": "stream",
     "text": [
      "---------------------------------------------------------------------------\n",
      "Accuracy for n_epochs : 180\n",
      "RMSE: 0.8260\n",
      "RMSE on Train data: 0.8260387173242633\n",
      "RMSE: 1.0847\n",
      "RMSE on Test data: 1.0846677017714499\n"
     ]
    },
    {
     "name": "stderr",
     "output_type": "stream",
     "text": [
      "\r",
      " 95%|█████████████████████████████████████████████████████████████████████████████▋    | 18/19 [00:05<00:00,  2.66it/s]"
     ]
    },
    {
     "name": "stdout",
     "output_type": "stream",
     "text": [
      "---------------------------------------------------------------------------\n",
      "Accuracy for n_epochs : 190\n",
      "RMSE: 0.8195\n",
      "RMSE on Train data: 0.8194850848852676\n",
      "RMSE: 1.0847\n",
      "RMSE on Test data: 1.0846745024071416\n"
     ]
    },
    {
     "name": "stderr",
     "output_type": "stream",
     "text": [
      "100%|██████████████████████████████████████████████████████████████████████████████████| 19/19 [00:06<00:00,  2.53it/s]\n"
     ]
    },
    {
     "name": "stdout",
     "output_type": "stream",
     "text": [
      "Time taken: 0:00:06.097701\n"
     ]
    }
   ],
   "source": [
    "start = datetime.now()\n",
    "bsl_options = {'method': 'sgd','learning_rate':0.001}\n",
    "print(\"Estimating biases using sgd with learning rate 0.001...\")\n",
    "for i in tqdm(range(10,200,10)):\n",
    "    bsl_options['n_epochs']=i\n",
    "    algo_sgd = BaselineOnly(bsl_options=bsl_options,verbose=False)\n",
    "    algo_sgd.fit(trainset)\n",
    "    print('-'*75)\n",
    "    print(\"Accuracy for n_epochs :\",i)\n",
    "    predictions = algo_sgd.test(trainset.build_testset())\n",
    "    print(\"RMSE on Train data:\",accuracy.rmse(predictions))\n",
    "\n",
    "    predictions = algo_sgd.test(testset)\n",
    "    print(\"RMSE on Test data:\",accuracy.rmse(predictions))\n",
    "\n",
    "\n",
    "print(\"Time taken:\",datetime.now()-start)"
   ]
  },
  {
   "cell_type": "code",
   "execution_count": 125,
   "metadata": {},
   "outputs": [],
   "source": [
    "from surprise import BaselineOnly "
   ]
  },
  {
   "cell_type": "code",
   "execution_count": 126,
   "metadata": {},
   "outputs": [
    {
     "name": "stdout",
     "output_type": "stream",
     "text": [
      "Training the model...\n",
      "Estimating biases using sgd...\n",
      "Done. time taken : 0:00:00.188990 \n",
      "\n",
      "Evaluating the model with train data..\n",
      "time taken : 0:00:00.055870\n",
      "---------------\n",
      "Train Data\n",
      "---------------\n",
      "RMSE : 0.8795037365882743\n",
      "\n",
      "MAPE : 28.255795201630583\n",
      "\n",
      "adding train results in the dictionary..\n",
      "\n",
      "Evaluating for test data...\n",
      "time taken : 0:00:00.064852\n",
      "---------------\n",
      "Test Data\n",
      "---------------\n",
      "RMSE : 1.0846500412904232\n",
      "\n",
      "MAPE : 34.126599919447855\n",
      "\n",
      "storing the test results in test dictionary...\n",
      "\n",
      "---------------------------------------------\n",
      "Total time taken to run this algorithm : 0:00:00.324629\n"
     ]
    }
   ],
   "source": [
    "\n",
    "bsl_options = {'method': 'sgd',\n",
    "               'learning_rate': .001,\n",
    "                'n_epochs' : 110}\n",
    "bsl_algo = BaselineOnly(bsl_options=bsl_options)\n",
    "\n",
    "bsl_train_results, bsl_test_results = run_surprise(bsl_algo, trainset, testset, verbose=True)\n",
    "\n",
    "\n",
    "\n",
    "models_evaluation_train['Baseline Train'] = bsl_train_results \n",
    "models_evaluation_test['Baseline Test'] = bsl_test_results"
   ]
  }
 ],
 "metadata": {
  "kernelspec": {
   "display_name": "Python 3",
   "language": "python",
   "name": "python3"
  },
  "language_info": {
   "codemirror_mode": {
    "name": "ipython",
    "version": 3
   },
   "file_extension": ".py",
   "mimetype": "text/x-python",
   "name": "python",
   "nbconvert_exporter": "python",
   "pygments_lexer": "ipython3",
   "version": "3.7.1"
  }
 },
 "nbformat": 4,
 "nbformat_minor": 2
}
